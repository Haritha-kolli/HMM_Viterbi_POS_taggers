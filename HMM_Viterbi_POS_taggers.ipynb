{
 "cells": [
  {
   "cell_type": "markdown",
   "metadata": {},
   "source": [
    "## POS tagging using modified Viterbi"
   ]
  },
  {
   "cell_type": "markdown",
   "metadata": {},
   "source": [
    "<span style='color:orange;font-size:14px'>POS Tagging:</span><p style='font-size:13px'>is a process of assigning a word in a natural language sentence with a proper tag from a given set of tags.\n",
    "* We will implement vanilla Viterbi algorithm using Penn Treebank training corpus with `universal` tagset\n",
    "* We have 12 coarse classes | tags in our corpus</p>\n"
   ]
  },
  {
   "cell_type": "markdown",
   "metadata": {},
   "source": [
    "### Data Preparation"
   ]
  },
  {
   "cell_type": "code",
   "execution_count": 54,
   "metadata": {},
   "outputs": [],
   "source": [
    "#Importing libraries\n",
    "import nltk\n",
    "from nltk.tokenize import word_tokenize,sent_tokenize\n",
    "import random\n",
    "import numpy as np\n",
    "import pandas as pd\n",
    "pd.options.mode.chained_assignment = None\n",
    "\n",
    "import time\n",
    "from sklearn.model_selection import train_test_split\n",
    "\n",
    "import seaborn as sns\n",
    "import matplotlib.pyplot as plt\n",
    "%matplotlib inline\n",
    "\n",
    "# Supress Warnings\n",
    "import warnings\n",
    "warnings.filterwarnings('ignore')"
   ]
  },
  {
   "cell_type": "code",
   "execution_count": 55,
   "metadata": {},
   "outputs": [],
   "source": [
    "# reading the Treebank tagged sentences\n",
    "nltk_data = list(nltk.corpus.treebank.tagged_sents(tagset='universal'))"
   ]
  },
  {
   "cell_type": "code",
   "execution_count": 56,
   "metadata": {},
   "outputs": [
    {
     "name": "stdout",
     "output_type": "stream",
     "text": [
      "[[('Pierre', 'NOUN'), ('Vinken', 'NOUN'), (',', '.'), ('61', 'NUM'), ('years', 'NOUN'), ('old', 'ADJ'), (',', '.'), ('will', 'VERB'), ('join', 'VERB'), ('the', 'DET'), ('board', 'NOUN'), ('as', 'ADP'), ('a', 'DET'), ('nonexecutive', 'ADJ'), ('director', 'NOUN'), ('Nov.', 'NOUN'), ('29', 'NUM'), ('.', '.')], [('Mr.', 'NOUN'), ('Vinken', 'NOUN'), ('is', 'VERB'), ('chairman', 'NOUN'), ('of', 'ADP'), ('Elsevier', 'NOUN'), ('N.V.', 'NOUN'), (',', '.'), ('the', 'DET'), ('Dutch', 'NOUN'), ('publishing', 'VERB'), ('group', 'NOUN'), ('.', '.')]]\n"
     ]
    }
   ],
   "source": [
    "print(nltk_data[:2])"
   ]
  },
  {
   "cell_type": "markdown",
   "metadata": {},
   "source": [
    "<span style='color:blue'>Splitting the Data into train & validation sets</span>"
   ]
  },
  {
   "cell_type": "markdown",
   "metadata": {},
   "source": [
    "<p style='font-size:13px'>We use a sample size of 95:5 for training: validation sets, i.e. keep the validation size small, So that algorithm won't need a very high amount of runtime.</p>"
   ]
  },
  {
   "cell_type": "code",
   "execution_count": 57,
   "metadata": {},
   "outputs": [],
   "source": [
    "#setting random.seed() to fetch same train & validation sets\n",
    "random.seed(100)\n",
    "\n",
    "#Splitting into train and validation sets\n",
    "train_set,validate_set = train_test_split(nltk_data,test_size=0.05,random_state=42)"
   ]
  },
  {
   "cell_type": "code",
   "execution_count": 58,
   "metadata": {},
   "outputs": [
    {
     "name": "stdout",
     "output_type": "stream",
     "text": [
      "Train Set : length: 3718 \n",
      " [[('Bank', 'NOUN'), ('of', 'ADP'), ('New', 'NOUN'), ('England', 'NOUN'), (\"'s\", 'PRT'), ('shares', 'NOUN'), ('are', 'VERB'), ('traded', 'VERB'), ('*-1', 'X'), ('on', 'ADP'), ('the', 'DET'), ('New', 'NOUN'), ('York', 'NOUN'), ('Stock', 'NOUN'), ('Exchange', 'NOUN'), ('.', '.')]]\n",
      "\n",
      "validate Set : length: 196 \n",
      " [[('For', 'ADP'), ('the', 'DET'), ('Agency', 'NOUN'), ('for', 'ADP'), ('International', 'NOUN'), ('Development', 'NOUN'), (',', '.'), ('appropriators', 'NOUN'), ('approved', 'VERB'), ('$', '.'), ('200', 'NUM'), ('million', 'NUM'), ('*U*', 'X'), ('in', 'ADP'), ('secondary', 'ADJ'), ('loan', 'NOUN'), ('guarantees', 'NOUN'), ('under', 'ADP'), ('an', 'DET'), ('expanded', 'VERB'), ('trade', 'NOUN'), ('credit', 'NOUN'), ('insurance', 'NOUN'), ('program', 'NOUN'), (',', '.'), ('and', 'CONJ'), ('total', 'ADJ'), ('loan', 'NOUN'), ('guarantees', 'NOUN'), ('for', 'ADP'), ('the', 'DET'), ('Overseas', 'NOUN'), ('Private', 'NOUN'), ('Investment', 'NOUN'), ('Corp.', 'NOUN'), ('are', 'VERB'), ('increased', 'VERB'), ('*-3', 'X'), ('by', 'ADP'), ('$', '.'), ('40', 'NUM'), ('million', 'NUM'), ('*U*', 'X'), ('over', 'ADP'), ('fiscal', 'ADJ'), ('1989', 'NUM'), ('as', 'ADP'), ('part', 'NOUN'), ('of', 'ADP'), ('the', 'DET'), ('same', 'ADJ'), ('Poland', 'NOUN'), ('package', 'NOUN'), ('.', '.')]]\n"
     ]
    }
   ],
   "source": [
    "print(\"Train Set : length:\",len(train_set),\"\\n\",train_set[:1])\n",
    "\n",
    "print(\"\\nvalidate Set : length:\",len(validate_set),\"\\n\",validate_set[:1])"
   ]
  },
  {
   "cell_type": "code",
   "execution_count": 59,
   "metadata": {},
   "outputs": [],
   "source": [
    "#Function for basic dataset info\n",
    "def get_tagged_words_info(data):\n",
    "    \n",
    "    print(\"dataset length :\",len(data))\n",
    "    \n",
    "    #Handle the case of the words in the corpus\n",
    "    \n",
    "    #fetch the (word,tag) from corpus\n",
    "    word_tags = [(word_tag[0].lower(),word_tag[1]) for sent in data for word_tag in sent]\n",
    "    #fetch words from (word,tag)\n",
    "    words = [word_tag[0].lower() for word_tag in word_tags]\n",
    "    #fetch tags from (word,tag)\n",
    "    tags = [word_tag[1] for word_tag in word_tags]\n",
    "    \n",
    "    print(\"Total words: \",len(words),\"\\nVocabulory:\",len(set(words)),\"\\nTotal Tags: \",len(set(tags)))\n",
    "    \n",
    "    #return the (word_tag) pairs, words,tags\n",
    "    return word_tags,words,tags"
   ]
  },
  {
   "cell_type": "code",
   "execution_count": 60,
   "metadata": {},
   "outputs": [
    {
     "name": "stdout",
     "output_type": "stream",
     "text": [
      "Train Data Info:\n",
      "dataset length : 3718\n",
      "Total words:  95589 \n",
      "Vocabulory: 11102 \n",
      "Total Tags:  12\n",
      "\n",
      "validate Data Info:\n",
      "dataset length : 196\n",
      "Total words:  5087 \n",
      "Vocabulory: 1798 \n",
      "Total Tags:  12\n"
     ]
    }
   ],
   "source": [
    "#Train_set\n",
    "print(\"Train Data Info:\")\n",
    "train_tagged_words,train_words,train_tags = get_tagged_words_info(train_set)\n",
    "\n",
    "#Validate_set\n",
    "print(\"\\nvalidate Data Info:\")\n",
    "validate_tagged_words,validate_words,validate_tags = get_tagged_words_info(validate_set)"
   ]
  },
  {
   "cell_type": "code",
   "execution_count": 61,
   "metadata": {},
   "outputs": [
    {
     "name": "stdout",
     "output_type": "stream",
     "text": [
      "[('bank', 'NOUN'), ('of', 'ADP'), ('new', 'NOUN'), ('england', 'NOUN'), (\"'s\", 'PRT'), ('shares', 'NOUN'), ('are', 'VERB'), ('traded', 'VERB'), ('*-1', 'X'), ('on', 'ADP')]\n"
     ]
    }
   ],
   "source": [
    "print(train_tagged_words[:10])"
   ]
  },
  {
   "cell_type": "code",
   "execution_count": 62,
   "metadata": {},
   "outputs": [],
   "source": [
    "#Function for Emission Probability\n",
    "def emission_probability(word,tag,df=train_tagged_words):\n",
    "    \n",
    "    #(word,tag) pairs with given 'tag'\n",
    "    n_tags = [word_tag for word_tag in df if word_tag[1]==tag.upper()]\n",
    "    #count of given `word` with the given `tag` \n",
    "    n_word_tag = len([word_tag[0] for word_tag in n_tags if word_tag[0]==word.lower()])\n",
    "    \n",
    "    return n_word_tag / len(n_tags)"
   ]
  },
  {
   "cell_type": "code",
   "execution_count": 63,
   "metadata": {},
   "outputs": [
    {
     "data": {
      "text/plain": [
       "0.0024067388688327317"
      ]
     },
     "execution_count": 63,
     "metadata": {},
     "output_type": "execute_result"
    }
   ],
   "source": [
    "#checking emission probability function for ('Bank','NOUN')\n",
    "emission_probability('Bank','Noun')"
   ]
  },
  {
   "cell_type": "code",
   "execution_count": 64,
   "metadata": {},
   "outputs": [],
   "source": [
    "#Function for transistion probability\n",
    "\n",
    "def trans_probability(t1,t2,df=train_tagged_words):\n",
    "    \n",
    "    #Tag list \n",
    "    tags = [pair[1] for pair in df]\n",
    "    #count of tags with given tag 't1'\n",
    "    n_t1 = len([t for t in tags if t==t1.upper()])\n",
    "    #intialise `t2 given t1` to 0\n",
    "    n_t1_t2 = 0\n",
    "    \n",
    "    for index in range(len(tags)-1):\n",
    "        #increament 'count of t2 given t1' if  t2 followed by t1  in tags of train Corpus\n",
    "        if tags[index]==t1.upper() and tags[index+1]==t2.upper():\n",
    "            n_t1_t2 += 1\n",
    "            \n",
    "    #return Transistion Probability\n",
    "    return n_t1_t2/n_t1"
   ]
  },
  {
   "cell_type": "code",
   "execution_count": 65,
   "metadata": {},
   "outputs": [
    {
     "data": {
      "text/plain": [
       "0.6400289715113472"
      ]
     },
     "execution_count": 65,
     "metadata": {},
     "output_type": "execute_result"
    }
   ],
   "source": [
    "#transistion probability of 'NOUN' followed by 'DET'\n",
    "trans_probability('DET','NOUN')"
   ]
  },
  {
   "cell_type": "code",
   "execution_count": 66,
   "metadata": {},
   "outputs": [],
   "source": [
    "#Function to build the transistion matrix \n",
    "\n",
    "def transistion_matrix(df_tags = train_tagged_words):\n",
    "    \n",
    "    #Tag List\n",
    "    tags = [pair[1] for pair in train_tagged_words]\n",
    "    \n",
    "    #unique Tag list\n",
    "    T = list(set(tags))\n",
    "    \n",
    "    #intialise the tag matrix \n",
    "    T_matrix = np.zeros((len(T),len(T)),dtype='float32')\n",
    "    \n",
    "    #Fill up the transistion probabilities \n",
    "    for i,t1 in enumerate(T):\n",
    "        for j,t2 in enumerate(T):\n",
    "            T_matrix[i,j] = trans_probability(t1,t2)\n",
    "    #DataFrame        \n",
    "    df = pd.DataFrame(T_matrix,columns=T,index=T)\n",
    "    return df"
   ]
  },
  {
   "cell_type": "code",
   "execution_count": 67,
   "metadata": {},
   "outputs": [],
   "source": [
    "#Construct Transistion Matrix for the tags of train_set corpus \n",
    "\n",
    "Transistion_matrix = transistion_matrix(train_tags)"
   ]
  },
  {
   "cell_type": "code",
   "execution_count": 68,
   "metadata": {},
   "outputs": [
    {
     "data": {
      "text/html": [
       "<div>\n",
       "<style scoped>\n",
       "    .dataframe tbody tr th:only-of-type {\n",
       "        vertical-align: middle;\n",
       "    }\n",
       "\n",
       "    .dataframe tbody tr th {\n",
       "        vertical-align: top;\n",
       "    }\n",
       "\n",
       "    .dataframe thead th {\n",
       "        text-align: right;\n",
       "    }\n",
       "</style>\n",
       "<table border=\"1\" class=\"dataframe\">\n",
       "  <thead>\n",
       "    <tr style=\"text-align: right;\">\n",
       "      <th></th>\n",
       "      <th>ADJ</th>\n",
       "      <th>ADP</th>\n",
       "      <th>PRT</th>\n",
       "      <th>CONJ</th>\n",
       "      <th>NOUN</th>\n",
       "      <th>NUM</th>\n",
       "      <th>.</th>\n",
       "      <th>VERB</th>\n",
       "      <th>DET</th>\n",
       "      <th>PRON</th>\n",
       "      <th>ADV</th>\n",
       "      <th>X</th>\n",
       "    </tr>\n",
       "  </thead>\n",
       "  <tbody>\n",
       "    <tr>\n",
       "      <th>ADJ</th>\n",
       "      <td>0.066645</td>\n",
       "      <td>0.078986</td>\n",
       "      <td>0.010861</td>\n",
       "      <td>0.016949</td>\n",
       "      <td>0.696725</td>\n",
       "      <td>0.020405</td>\n",
       "      <td>0.065328</td>\n",
       "      <td>0.012342</td>\n",
       "      <td>0.005101</td>\n",
       "      <td>0.000658</td>\n",
       "      <td>0.004608</td>\n",
       "      <td>0.021392</td>\n",
       "    </tr>\n",
       "    <tr>\n",
       "      <th>ADP</th>\n",
       "      <td>0.105297</td>\n",
       "      <td>0.017228</td>\n",
       "      <td>0.001498</td>\n",
       "      <td>0.000856</td>\n",
       "      <td>0.321776</td>\n",
       "      <td>0.062921</td>\n",
       "      <td>0.039486</td>\n",
       "      <td>0.008240</td>\n",
       "      <td>0.326378</td>\n",
       "      <td>0.069128</td>\n",
       "      <td>0.013162</td>\n",
       "      <td>0.034029</td>\n",
       "    </tr>\n",
       "    <tr>\n",
       "      <th>PRT</th>\n",
       "      <td>0.086303</td>\n",
       "      <td>0.021576</td>\n",
       "      <td>0.001635</td>\n",
       "      <td>0.002288</td>\n",
       "      <td>0.242563</td>\n",
       "      <td>0.058516</td>\n",
       "      <td>0.041517</td>\n",
       "      <td>0.402746</td>\n",
       "      <td>0.100360</td>\n",
       "      <td>0.018960</td>\n",
       "      <td>0.010134</td>\n",
       "      <td>0.013403</td>\n",
       "    </tr>\n",
       "    <tr>\n",
       "      <th>CONJ</th>\n",
       "      <td>0.116847</td>\n",
       "      <td>0.054435</td>\n",
       "      <td>0.004693</td>\n",
       "      <td>0.000469</td>\n",
       "      <td>0.349132</td>\n",
       "      <td>0.042234</td>\n",
       "      <td>0.034256</td>\n",
       "      <td>0.153918</td>\n",
       "      <td>0.121539</td>\n",
       "      <td>0.058658</td>\n",
       "      <td>0.055842</td>\n",
       "      <td>0.007977</td>\n",
       "    </tr>\n",
       "    <tr>\n",
       "      <th>NOUN</th>\n",
       "      <td>0.012289</td>\n",
       "      <td>0.176275</td>\n",
       "      <td>0.043832</td>\n",
       "      <td>0.041936</td>\n",
       "      <td>0.264632</td>\n",
       "      <td>0.009627</td>\n",
       "      <td>0.239179</td>\n",
       "      <td>0.147978</td>\n",
       "      <td>0.013310</td>\n",
       "      <td>0.004923</td>\n",
       "      <td>0.016884</td>\n",
       "      <td>0.029136</td>\n",
       "    </tr>\n",
       "    <tr>\n",
       "      <th>NUM</th>\n",
       "      <td>0.034196</td>\n",
       "      <td>0.034790</td>\n",
       "      <td>0.027951</td>\n",
       "      <td>0.013381</td>\n",
       "      <td>0.355338</td>\n",
       "      <td>0.184062</td>\n",
       "      <td>0.118347</td>\n",
       "      <td>0.017544</td>\n",
       "      <td>0.003271</td>\n",
       "      <td>0.001487</td>\n",
       "      <td>0.002974</td>\n",
       "      <td>0.206661</td>\n",
       "    </tr>\n",
       "    <tr>\n",
       "      <th>.</th>\n",
       "      <td>0.044972</td>\n",
       "      <td>0.091114</td>\n",
       "      <td>0.002339</td>\n",
       "      <td>0.057924</td>\n",
       "      <td>0.223152</td>\n",
       "      <td>0.080500</td>\n",
       "      <td>0.093812</td>\n",
       "      <td>0.088505</td>\n",
       "      <td>0.173502</td>\n",
       "      <td>0.065389</td>\n",
       "      <td>0.052078</td>\n",
       "      <td>0.026623</td>\n",
       "    </tr>\n",
       "    <tr>\n",
       "      <th>VERB</th>\n",
       "      <td>0.064649</td>\n",
       "      <td>0.090493</td>\n",
       "      <td>0.031121</td>\n",
       "      <td>0.005588</td>\n",
       "      <td>0.110904</td>\n",
       "      <td>0.022817</td>\n",
       "      <td>0.035312</td>\n",
       "      <td>0.169189</td>\n",
       "      <td>0.133101</td>\n",
       "      <td>0.036244</td>\n",
       "      <td>0.082577</td>\n",
       "      <td>0.218005</td>\n",
       "    </tr>\n",
       "    <tr>\n",
       "      <th>DET</th>\n",
       "      <td>0.204973</td>\n",
       "      <td>0.009054</td>\n",
       "      <td>0.000241</td>\n",
       "      <td>0.000483</td>\n",
       "      <td>0.640029</td>\n",
       "      <td>0.021970</td>\n",
       "      <td>0.017986</td>\n",
       "      <td>0.038387</td>\n",
       "      <td>0.005311</td>\n",
       "      <td>0.003742</td>\n",
       "      <td>0.012313</td>\n",
       "      <td>0.045509</td>\n",
       "    </tr>\n",
       "    <tr>\n",
       "      <th>PRON</th>\n",
       "      <td>0.074866</td>\n",
       "      <td>0.022918</td>\n",
       "      <td>0.012223</td>\n",
       "      <td>0.004966</td>\n",
       "      <td>0.211230</td>\n",
       "      <td>0.007257</td>\n",
       "      <td>0.041253</td>\n",
       "      <td>0.480901</td>\n",
       "      <td>0.009549</td>\n",
       "      <td>0.008021</td>\n",
       "      <td>0.033995</td>\n",
       "      <td>0.092819</td>\n",
       "    </tr>\n",
       "    <tr>\n",
       "      <th>ADV</th>\n",
       "      <td>0.130233</td>\n",
       "      <td>0.119601</td>\n",
       "      <td>0.013621</td>\n",
       "      <td>0.006312</td>\n",
       "      <td>0.030897</td>\n",
       "      <td>0.030565</td>\n",
       "      <td>0.136877</td>\n",
       "      <td>0.344518</td>\n",
       "      <td>0.067110</td>\n",
       "      <td>0.015615</td>\n",
       "      <td>0.081063</td>\n",
       "      <td>0.023588</td>\n",
       "    </tr>\n",
       "    <tr>\n",
       "      <th>X</th>\n",
       "      <td>0.016571</td>\n",
       "      <td>0.142925</td>\n",
       "      <td>0.185787</td>\n",
       "      <td>0.010357</td>\n",
       "      <td>0.061345</td>\n",
       "      <td>0.002709</td>\n",
       "      <td>0.163799</td>\n",
       "      <td>0.203633</td>\n",
       "      <td>0.055131</td>\n",
       "      <td>0.056087</td>\n",
       "      <td>0.025175</td>\n",
       "      <td>0.076482</td>\n",
       "    </tr>\n",
       "  </tbody>\n",
       "</table>\n",
       "</div>"
      ],
      "text/plain": [
       "           ADJ       ADP       PRT      CONJ      NOUN       NUM         .  \\\n",
       "ADJ   0.066645  0.078986  0.010861  0.016949  0.696725  0.020405  0.065328   \n",
       "ADP   0.105297  0.017228  0.001498  0.000856  0.321776  0.062921  0.039486   \n",
       "PRT   0.086303  0.021576  0.001635  0.002288  0.242563  0.058516  0.041517   \n",
       "CONJ  0.116847  0.054435  0.004693  0.000469  0.349132  0.042234  0.034256   \n",
       "NOUN  0.012289  0.176275  0.043832  0.041936  0.264632  0.009627  0.239179   \n",
       "NUM   0.034196  0.034790  0.027951  0.013381  0.355338  0.184062  0.118347   \n",
       ".     0.044972  0.091114  0.002339  0.057924  0.223152  0.080500  0.093812   \n",
       "VERB  0.064649  0.090493  0.031121  0.005588  0.110904  0.022817  0.035312   \n",
       "DET   0.204973  0.009054  0.000241  0.000483  0.640029  0.021970  0.017986   \n",
       "PRON  0.074866  0.022918  0.012223  0.004966  0.211230  0.007257  0.041253   \n",
       "ADV   0.130233  0.119601  0.013621  0.006312  0.030897  0.030565  0.136877   \n",
       "X     0.016571  0.142925  0.185787  0.010357  0.061345  0.002709  0.163799   \n",
       "\n",
       "          VERB       DET      PRON       ADV         X  \n",
       "ADJ   0.012342  0.005101  0.000658  0.004608  0.021392  \n",
       "ADP   0.008240  0.326378  0.069128  0.013162  0.034029  \n",
       "PRT   0.402746  0.100360  0.018960  0.010134  0.013403  \n",
       "CONJ  0.153918  0.121539  0.058658  0.055842  0.007977  \n",
       "NOUN  0.147978  0.013310  0.004923  0.016884  0.029136  \n",
       "NUM   0.017544  0.003271  0.001487  0.002974  0.206661  \n",
       ".     0.088505  0.173502  0.065389  0.052078  0.026623  \n",
       "VERB  0.169189  0.133101  0.036244  0.082577  0.218005  \n",
       "DET   0.038387  0.005311  0.003742  0.012313  0.045509  \n",
       "PRON  0.480901  0.009549  0.008021  0.033995  0.092819  \n",
       "ADV   0.344518  0.067110  0.015615  0.081063  0.023588  \n",
       "X     0.203633  0.055131  0.056087  0.025175  0.076482  "
      ]
     },
     "execution_count": 68,
     "metadata": {},
     "output_type": "execute_result"
    }
   ],
   "source": [
    "#print Transistion_matrix\n",
    "Transistion_matrix"
   ]
  },
  {
   "cell_type": "code",
   "execution_count": 69,
   "metadata": {},
   "outputs": [
    {
     "data": {
      "image/png": "[encoded data removed]",
      "text/plain": [
       "<Figure size 720x504 with 2 Axes>"
      ]
     },
     "metadata": {
      "needs_background": "light"
     },
     "output_type": "display_data"
    }
   ],
   "source": [
    "plt.figure(figsize=(10,7))\n",
    "sns.heatmap(Transistion_matrix,annot=True,cmap='Blues')\n",
    "plt.show()"
   ]
  },
  {
   "cell_type": "markdown",
   "metadata": {},
   "source": [
    "<span style='color:brown'>Observation:</span>\n",
    "\n",
    "- `Noun` followed by 'DET'|'ADJ' is most frequest tag pairs"
   ]
  },
  {
   "cell_type": "markdown",
   "metadata": {},
   "source": [
    "### Build the vanilla Viterbi based POS tagger"
   ]
  },
  {
   "cell_type": "markdown",
   "metadata": {},
   "source": [
    "<span style='color:orange;font-size:14px'>Viterbi Algorithm:</span><p style='font-size:13px'>- Dynamic programming approach to find the optimal tag sequence</p>"
   ]
  },
  {
   "cell_type": "code",
   "execution_count": 70,
   "metadata": {},
   "outputs": [],
   "source": [
    "#Function for viterbi algorithm\n",
    "\n",
    "def vanilla_viterbi(words,train = train_tagged_words):\n",
    "    state = []\n",
    "    Tags = list(set([pair[1] for pair in train]))\n",
    "    \n",
    "    for key,word in enumerate(words):\n",
    "        \n",
    "        p = []\n",
    "        for tag in Tags:\n",
    "            \n",
    "            #transistion probability from transistion matrix, which we bult earlier\n",
    "            \n",
    "            if key == 0:\n",
    "                #If it is first word, we will consider ['.',tag] for transistion probability\n",
    "                #indicating it as start\n",
    "                transistion_prob = Transistion_matrix.loc['.',tag]\n",
    "            else:\n",
    "                transistion_prob = Transistion_matrix.loc[state[-1],tag]\n",
    "            #emission probability\n",
    "            emission_prob = emission_probability(word,tag)\n",
    "            \n",
    "            #Calculating the state probability\n",
    "            state_probability = emission_prob * transistion_prob\n",
    "            \n",
    "            #Appending to the probability list 'p'\n",
    "            p.append(state_probability)\n",
    "            \n",
    "        #Pick max probability from the 'p' list\n",
    "        p_max = max(p)\n",
    "        \n",
    "        #fetch the state|TAG with max state_probability\n",
    "        state_max = Tags[p.index(p_max)]\n",
    "        #append to the state list to track the previous one in coming iterations\n",
    "        state.append(state_max)\n",
    "    return list(zip(words,state))"
   ]
  },
  {
   "cell_type": "code",
   "execution_count": 71,
   "metadata": {},
   "outputs": [],
   "source": [
    "#Function to calculate the accuracy\n",
    "def calculate_accuracy(results,base):\n",
    "    \n",
    "    isMatch = [i for i,j in zip(results,base) if i==j]\n",
    "    accuracy = round(len(isMatch)/len(results) * 100,2)\n",
    "    \n",
    "    print(\"Accuracy : \",accuracy,\"%\")\n",
    "    \n",
    "    return accuracy"
   ]
  },
  {
   "cell_type": "code",
   "execution_count": 72,
   "metadata": {},
   "outputs": [],
   "source": [
    "#'accuracy' dictionary to hold different algorithms accuracies\n",
    "accuracy = {}"
   ]
  },
  {
   "cell_type": "markdown",
   "metadata": {},
   "source": [
    "<p style='font-size:14px;color:brown'>Run vanilla viterbi algorithm :</p>"
   ]
  },
  {
   "cell_type": "code",
   "execution_count": 73,
   "metadata": {},
   "outputs": [
    {
     "name": "stdout",
     "output_type": "stream",
     "text": [
      "Time taken in seconds:  1707.7623805999756\n",
      "[('for', 'ADP'), ('the', 'DET'), ('agency', 'NOUN'), ('for', 'ADP'), ('international', 'NOUN'), ('development', 'NOUN'), (',', '.'), ('appropriators', 'NOUN'), ('approved', 'VERB'), ('$', '.')]\n"
     ]
    }
   ],
   "source": [
    "#Running Viterbi algorithm on validate_set\n",
    "\n",
    "#logging the time taken to run \n",
    "start = time.time()\n",
    "#Viterbi Algorithm\n",
    "resultant_tagged_seq = vanilla_viterbi(validate_words)\n",
    "end = time.time()\n",
    "difference = end-start\n",
    "\n",
    "print(\"Time taken in seconds: \", difference)\n",
    "print(resultant_tagged_seq[:10])"
   ]
  },
  {
   "cell_type": "markdown",
   "metadata": {},
   "source": [
    "<p style='font-size:14px;color:brown'>Accuracy of vanilla viterbi:</p>"
   ]
  },
  {
   "cell_type": "code",
   "execution_count": 74,
   "metadata": {},
   "outputs": [
    {
     "name": "stdout",
     "output_type": "stream",
     "text": [
      "Accuracy :  92.24 %\n"
     ]
    }
   ],
   "source": [
    "accuracy['vanilla_viterbi'] = calculate_accuracy(resultant_tagged_seq,validate_tagged_words)"
   ]
  },
  {
   "cell_type": "markdown",
   "metadata": {},
   "source": [
    "<p style='font-size:14px;color:brown'>Incorrect Tags</p>"
   ]
  },
  {
   "cell_type": "code",
   "execution_count": 75,
   "metadata": {},
   "outputs": [
    {
     "data": {
      "text/plain": [
       "[[('the', 'DET'), (('overseas', 'ADJ'), ('overseas', 'NOUN'))],\n",
       " [('overseas', 'NOUN'), (('private', 'ADJ'), ('private', 'NOUN'))],\n",
       " [('the', 'DET'), (('purchasing', 'NOUN'), ('purchasing', 'VERB'))],\n",
       " [('weekly', 'ADJ'), (('paycheck', 'ADJ'), ('paycheck', 'NOUN'))],\n",
       " [('paycheck', 'NOUN'), (('reasonably', 'ADJ'), ('reasonably', 'ADV'))],\n",
       " [(',', '.'), (('though', 'ADP'), ('though', 'ADV'))],\n",
       " [('such', 'ADJ'), (('close', 'NOUN'), ('close', 'ADJ'))],\n",
       " [('acquiring', 'VERB'), (('more', 'ADV'), ('more', 'ADJ'))],\n",
       " [('from', 'ADP'), (('tokio', 'ADJ'), ('tokio', 'NOUN'))],\n",
       " [('medical', 'ADJ'), (('protocols', 'ADJ'), ('protocols', 'NOUN'))]]"
      ]
     },
     "execution_count": 75,
     "metadata": {},
     "output_type": "execute_result"
    }
   ],
   "source": [
    "#incorrect tags\n",
    "incorrect_tags = [[validate_tagged_words[i-1],j] for i, j in enumerate(zip(resultant_tagged_seq, validate_tagged_words)) if j[0]!=j[1]]\n",
    "incorrect_tags[:10]"
   ]
  },
  {
   "cell_type": "markdown",
   "metadata": {},
   "source": [
    "<span style='color:brown'>Observation:</span>\n",
    "We can notice few words been inccorectly tagged like Overseas,pre-1917,paycheck,.."
   ]
  },
  {
   "cell_type": "markdown",
   "metadata": {},
   "source": [
    "### Solve the problem of unknown words"
   ]
  },
  {
   "cell_type": "markdown",
   "metadata": {},
   "source": [
    "Let's use `some lexical based and rule based techniques` to sort the unknown word problems by modifying our Vanilla_Viterbi algorithm"
   ]
  },
  {
   "cell_type": "markdown",
   "metadata": {},
   "source": [
    "<span style='color:blue;font-size:16px'>Lexicon Based Techniques</span>"
   ]
  },
  {
   "cell_type": "markdown",
   "metadata": {},
   "source": [
    "<span style='color:orange;font-size:13px'>Unigram Tagger:</span>\n",
    "<p style='font-size:12px'>This tagger doesn't consider the word ordering</p>"
   ]
  },
  {
   "cell_type": "code",
   "execution_count": 76,
   "metadata": {},
   "outputs": [],
   "source": [
    "#Unigram tagger\n",
    "def unigram_tagger(train =train_set,validation =validate_set,checkword=False):\n",
    "    \n",
    "    unigram_tagger = nltk.UnigramTagger(train)\n",
    "\n",
    "    #calculate the accuarcy\n",
    "    unigram_accuracy = round(unigram_tagger.evaluate(validation),2)*100\n",
    "    \n",
    "    print(\"Unigram accuracy: \",unigram_accuracy,\"%\")\n",
    "    accuracy['unigram_tagger'] = unigram_accuracy\n",
    "    \n",
    "    if checkword:\n",
    "        return unigram_tagger.tag_sents([[(checkword)]])\n"
   ]
  },
  {
   "cell_type": "code",
   "execution_count": 77,
   "metadata": {},
   "outputs": [
    {
     "name": "stdout",
     "output_type": "stream",
     "text": [
      "Unigram accuracy:  91.0 %\n"
     ]
    }
   ],
   "source": [
    "#evaluating the unigram_tagger on validate_set\n",
    "unigram_tagger(train_set,validate_set)"
   ]
  },
  {
   "cell_type": "code",
   "execution_count": 78,
   "metadata": {},
   "outputs": [
    {
     "name": "stdout",
     "output_type": "stream",
     "text": [
      "Unigram accuracy:  91.0 %\n"
     ]
    },
    {
     "data": {
      "text/plain": [
       "[[('the', 'DET')]]"
      ]
     },
     "execution_count": 78,
     "metadata": {},
     "output_type": "execute_result"
    }
   ],
   "source": [
    "#Testing 'the' word tag\n",
    "unigram_tagger(checkword='the')"
   ]
  },
  {
   "cell_type": "markdown",
   "metadata": {},
   "source": [
    "<span style='color:orange;font-size:13px'>Bigram Tagger:</span>"
   ]
  },
  {
   "cell_type": "code",
   "execution_count": 79,
   "metadata": {},
   "outputs": [
    {
     "name": "stdout",
     "output_type": "stream",
     "text": [
      "The accuracy of the bigram Tagger is - 21.68\n"
     ]
    }
   ],
   "source": [
    "#Bigram tagger\n",
    "\n",
    "bigram_tagger = nltk.BigramTagger(train_set)\n",
    "\n",
    "#calculate the accuracy\n",
    "bigram_tagger_accuracy = round(bigram_tagger.evaluate(validate_set)*100,2)\n",
    "accuracy['Bigram_tagger'] = bigram_tagger_accuracy \n",
    "\n",
    "print(\"The accuracy of the bigram Tagger is -\", bigram_tagger_accuracy)"
   ]
  },
  {
   "cell_type": "markdown",
   "metadata": {},
   "source": [
    "<span style='color:orange;font-size:13px'>Trigram Tagger:</span>"
   ]
  },
  {
   "cell_type": "code",
   "execution_count": 80,
   "metadata": {},
   "outputs": [],
   "source": [
    "#Trigram tagger with 'rule based tagger' as backoff \n",
    "def trigram_tagger(word,train_set = train_set):\n",
    "    patterns = [\n",
    "    (r'[aA-zZ]+(ing|ed|es)$', 'VERB'),              # words ending with 'ing|ed|es' considered as VERB\n",
    "    (r'.*ould$', 'X'),              # modals\n",
    "    (r'(The|the|A|a|An|an)$', 'DET'), #determiners\n",
    "    (r'.*(\\'s|s)$', 'NOUN'),   # possessive & plural nouns\n",
    "    (r'^-?[0-9]+(.[0-9]+)?$', 'NUM'), # cardinal numbers\n",
    "    (r'^[0-9]+(st|nd|rd|th)+$','ADJ'), #RANKING as Adjective\n",
    "    (r'.*', 'NOUN')                    # nouns\n",
    "    ]\n",
    "    #Rule based tagger with the above patterns\n",
    "    rule_based_tagger = nltk.RegexpTagger(patterns)\n",
    "\n",
    "    # trigram Tagger with regex tagger as back off\n",
    "    trigram_rule_based_tagger = nltk.TrigramTagger(train_set, backoff=rule_based_tagger)\n",
    "    \n",
    "    return trigram_rule_based_tagger.tag_sents([[(word)]])"
   ]
  },
  {
   "cell_type": "markdown",
   "metadata": {},
   "source": [
    "<span style='color:blue;font-size:16px'>Rule-Based Techniques</span>\n",
    "\n",
    "<p style='font-size:13px'>Applies a set of handwritten rules and use contextual information to assign POS tags to words.\n",
    "\n",
    "1. Let's define some rules to apply on our dataset\n",
    "2. First, tag the words using `Lexicon based technique`\n",
    "3. Then, apply the `rule_based tagger`\n",
    "\n",
    "<span style='color:red'>Note:</span> Rule_Based Taggers always uses Lexicon based technique before applying the defined rules</p>"
   ]
  },
  {
   "cell_type": "code",
   "execution_count": 81,
   "metadata": {},
   "outputs": [],
   "source": [
    "#defining rules for the rule based tagger\n",
    "patterns = [\n",
    "    (r'[aA-zZ]+(ing|ed|es)$', 'VERB'), # words ending with 'ing|ed|es' considered as VERB\n",
    "    (r'.*ould$', 'X'),              # modals\n",
    "    (r'(The|the|A|a|An|an)$', 'DET'), #determiners\n",
    "    (r'.*(\\'s|s)$', 'NOUN'),   # possessive & plural nouns\n",
    "    (r'^-?[0-9]+(.[0-9]+)?$', 'NUM'), # cardinal numbers\n",
    "    (r'.*', 'NOUN')                    # nouns\n",
    "    ]"
   ]
  },
  {
   "cell_type": "code",
   "execution_count": 82,
   "metadata": {},
   "outputs": [
    {
     "name": "stdout",
     "output_type": "stream",
     "text": [
      "The accuracy of the Unigram Tagger backed up by the RegexpTagger is - 95.14\n"
     ]
    }
   ],
   "source": [
    "#defining the rule based tagger with the above rules\n",
    "\n",
    "rule_based_tagger = nltk.RegexpTagger(patterns)\n",
    "\n",
    "#unigram tagger backed up by the rule-based tagger\n",
    "rule_based_unigram_tagger = nltk.UnigramTagger(train_set, backoff = rule_based_tagger)\n",
    "\n",
    "accuracy_rule_based_unigram_tagger = round(rule_based_unigram_tagger.evaluate(validate_set)*100,2)\n",
    "accuracy['Unigram_Rule_based_tagger'] = accuracy_rule_based_unigram_tagger\n",
    "\n",
    "print(\"The accuracy of the Unigram Tagger backed up by the RegexpTagger is -\", accuracy_rule_based_unigram_tagger)"
   ]
  },
  {
   "cell_type": "code",
   "execution_count": 84,
   "metadata": {},
   "outputs": [
    {
     "data": {
      "text/plain": [
       "{'vanilla_viterbi': 92.24,\n",
       " 'unigram_tagger': 91.0,\n",
       " 'Bigram_tagger': 21.68,\n",
       " 'Unigram_Rule_based_tagger': 95.14}"
      ]
     },
     "execution_count": 84,
     "metadata": {},
     "output_type": "execute_result"
    }
   ],
   "source": [
    "#Accuracies\n",
    "accuracy"
   ]
  },
  {
   "cell_type": "markdown",
   "metadata": {},
   "source": [
    "<span style='color:blue'>Modification 1:</span>\n",
    "<span style='color:brown'>Viterbi Algorithm using trigram tagger:</span>"
   ]
  },
  {
   "cell_type": "code",
   "execution_count": 85,
   "metadata": {},
   "outputs": [],
   "source": [
    "#Function for viterbi with Modification 1\n",
    "def viterbi_Modification_1(words,train = train_tagged_words):\n",
    "    state = []\n",
    "    Tags = list(set([pair[1] for pair in train]))\n",
    "    train_word_set = list(set([pair[0] for pair in train]))\n",
    "    \n",
    "    for key,word in enumerate(words):\n",
    "        \n",
    "        #if word is not in the train corpus\n",
    "        if word not in train_word_set:\n",
    "            #Use trigram tagger with rule based as backoff\n",
    "            unknown_word_tag = trigram_tagger(word)\n",
    "            for sent in unknown_word_tag:\n",
    "                for tup in sent:\n",
    "                    state.append(tup[1])\n",
    "            #state.append(tag[1] for word_tag in unknown_word_tag for tag in word_tag)\n",
    "        else:\n",
    "            p = []\n",
    "            for tag in Tags:\n",
    "\n",
    "                #transistion probability from transistion matrix, which we bult earlier\n",
    "                if key == 0:\n",
    "                    transistion_prob = Transistion_matrix.loc['.',tag]\n",
    "                else:\n",
    "                    transistion_prob = Transistion_matrix.loc[state[-1],tag]\n",
    "                #emission probability\n",
    "                emission_prob = emission_probability(word,tag)\n",
    "\n",
    "                state_probability = emission_prob * transistion_prob\n",
    "                p.append(state_probability)\n",
    "            p_max = max(p)\n",
    "\n",
    "            state_max = Tags[p.index(p_max)]\n",
    "            state.append(state_max)\n",
    "    return list(zip(words,state))"
   ]
  },
  {
   "cell_type": "markdown",
   "metadata": {},
   "source": [
    "<span style='color:blue'>Modification 2:</span><span style='color:brown'>Viterbi Algorithm - considering \"state_probabiblity = transistion probability\" for unknown words\n",
    "    :</span>"
   ]
  },
  {
   "cell_type": "code",
   "execution_count": 86,
   "metadata": {},
   "outputs": [],
   "source": [
    "#Function for viterbi with Modification 2\n",
    "def viterbi_Modification_2(words,train = train_tagged_words):\n",
    "    state = []\n",
    "    Tags = list(set([pair[1] for pair in train]))\n",
    "    \n",
    "    for key,word in enumerate(words):\n",
    "        \n",
    "        tag_state_prob = []\n",
    "        tag_trans_prob = []\n",
    "        for tag in Tags:\n",
    "\n",
    "            #transistion probability from transistion matrix, which we bult earlier\n",
    "            if key == 0:\n",
    "                transistion_prob = Transistion_matrix.loc['.',tag]\n",
    "            else:\n",
    "                 transistion_prob = Transistion_matrix.loc[state[-1],tag]\n",
    "            \n",
    "            #emission probability\n",
    "            emission_prob = emission_probability(word,tag)\n",
    "            #state probability\n",
    "            state_probability = emission_prob * transistion_prob\n",
    "            \n",
    "            tag_trans_prob.append(transistion_prob)\n",
    "            tag_state_prob.append(state_probability)\n",
    "            \n",
    "        #pick max probability  \n",
    "        p_max = max(tag_state_prob)\n",
    "        \n",
    "        #Incase,unknown word encountered - all the state probabilities become 0\n",
    "        #In such case, STATE PROBABILITY = TRANSISTION PROBABILITY\n",
    "        if p_max == 0:\n",
    "            p_max = max(tag_trans_prob)\n",
    "            tag_with_state_max = Tags[tag_trans_prob.index(p_max)]\n",
    "        else:\n",
    "            #tag with max state probability\n",
    "            tag_with_state_max = Tags[tag_state_prob.index(p_max)]\n",
    "        \n",
    "        state.append(tag_with_state_max)\n",
    "              \n",
    "    return list(zip(words,state))"
   ]
  },
  {
   "cell_type": "markdown",
   "metadata": {},
   "source": [
    "#### Evaluating tagging accuracy"
   ]
  },
  {
   "cell_type": "markdown",
   "metadata": {},
   "source": [
    "<span style='color:blue'>Modification 1:</span>\n",
    "\n",
    "<p style='font-size:13px'>\n",
    "          - Used trigram tagger with rule based tagger as backoff for tagging the unknown words</p>"
   ]
  },
  {
   "cell_type": "code",
   "execution_count": 87,
   "metadata": {},
   "outputs": [
    {
     "name": "stdout",
     "output_type": "stream",
     "text": [
      "Time taken in seconds:  1909.5444457530975\n",
      "[('for', 'ADP'), ('the', 'DET'), ('agency', 'NOUN'), ('for', 'ADP'), ('international', 'NOUN'), ('development', 'NOUN'), (',', '.'), ('appropriators', 'NOUN'), ('approved', 'VERB'), ('$', '.')]\n"
     ]
    }
   ],
   "source": [
    "#Running Viterbi algorithm on validate_set\n",
    "\n",
    "#logging the time taken to run \n",
    "start = time.time()\n",
    "#Viterbi Algorithm\n",
    "resultant_tagged_seq = viterbi_Modification_1(validate_words)\n",
    "end = time.time()\n",
    "difference = end-start\n",
    "\n",
    "print(\"Time taken in seconds: \", difference)\n",
    "print(resultant_tagged_seq[:10])"
   ]
  },
  {
   "cell_type": "code",
   "execution_count": 88,
   "metadata": {},
   "outputs": [
    {
     "name": "stdout",
     "output_type": "stream",
     "text": [
      "Accuracy :  94.89 %\n"
     ]
    }
   ],
   "source": [
    "#calculate accuracy \n",
    "\n",
    "accuracy['viterbi_Modification_1'] = calculate_accuracy(resultant_tagged_seq,validate_tagged_words)"
   ]
  },
  {
   "cell_type": "markdown",
   "metadata": {},
   "source": [
    "<span style='color:brown'>Observation:</span>\n",
    "\n",
    " - On evaluating the viterbi algorithm with modification 1 on validation set, Accuracy has been improved to ~95%.\n",
    " - In Modification 1, for unknown words- we have condisered trigram tagger with rule based as backoff for setting the appropriate tags to them"
   ]
  },
  {
   "cell_type": "markdown",
   "metadata": {},
   "source": [
    "<span style='color:blue'>Modification 2:</span>\n",
    "\n",
    "<p style='font-size:13px'>\n",
    "          - for unknown words: considered STATE_PROBABILITY = TRANSISTION_PROBABILTY</p>"
   ]
  },
  {
   "cell_type": "code",
   "execution_count": 89,
   "metadata": {
    "scrolled": true
   },
   "outputs": [
    {
     "name": "stdout",
     "output_type": "stream",
     "text": [
      "Time taken in seconds:  1570.8961589336395\n",
      "[('for', 'ADP'), ('the', 'DET'), ('agency', 'NOUN'), ('for', 'ADP'), ('international', 'NOUN'), ('development', 'NOUN'), (',', '.'), ('appropriators', 'NOUN'), ('approved', 'VERB'), ('$', '.')]\n"
     ]
    }
   ],
   "source": [
    "#Running Viterbi algorithm on validate_set\n",
    "\n",
    "#logging the time taken to run \n",
    "start = time.time()\n",
    "#Viterbi Algorithm\n",
    "resultant_tagged_seq = viterbi_Modification_2(validate_words)\n",
    "end = time.time()\n",
    "difference = end-start\n",
    "\n",
    "print(\"Time taken in seconds: \", difference)\n",
    "print(resultant_tagged_seq[:10])"
   ]
  },
  {
   "cell_type": "code",
   "execution_count": 90,
   "metadata": {},
   "outputs": [
    {
     "name": "stdout",
     "output_type": "stream",
     "text": [
      "Accuracy :  93.49 %\n"
     ]
    }
   ],
   "source": [
    "#calculate accuracy\n",
    "accuracy['viterbi_Modification_2'] = calculate_accuracy(resultant_tagged_seq,validate_tagged_words)"
   ]
  },
  {
   "cell_type": "markdown",
   "metadata": {},
   "source": [
    "<span style='color:brown'>Observation:</span>\n",
    "\n",
    " - On evaluating the viterbi algorithm with modification 2 on validation set, Accuracy has been improved slightly\n",
    " - In Modification 2: We have made state probabilities = transistion probabilities as the emission probabilities of unknown words becomes 0."
   ]
  },
  {
   "cell_type": "markdown",
   "metadata": {},
   "source": [
    "### Compare the tagging accuracies of the modifications with the vanilla Viterbi algorithm"
   ]
  },
  {
   "cell_type": "code",
   "execution_count": 91,
   "metadata": {},
   "outputs": [
    {
     "data": {
      "text/plain": [
       "{'vanilla_viterbi': 92.24,\n",
       " 'unigram_tagger': 91.0,\n",
       " 'Bigram_tagger': 21.68,\n",
       " 'Unigram_Rule_based_tagger': 95.14,\n",
       " 'viterbi_Modification_1': 94.89,\n",
       " 'viterbi_Modification_2': 93.49}"
      ]
     },
     "execution_count": 91,
     "metadata": {},
     "output_type": "execute_result"
    }
   ],
   "source": [
    "#accuracy of different tagger algorithms\n",
    "accuracy"
   ]
  },
  {
   "cell_type": "code",
   "execution_count": 92,
   "metadata": {},
   "outputs": [],
   "source": [
    "#Defining accuracy_df dataframe\n",
    "accuracy_df = pd.DataFrame.from_dict(accuracy,orient='index',columns=['accuracy']).reset_index().rename(columns={'index':'Tagger_name'})"
   ]
  },
  {
   "cell_type": "code",
   "execution_count": 93,
   "metadata": {},
   "outputs": [
    {
     "data": {
      "text/html": [
       "<div>\n",
       "<style scoped>\n",
       "    .dataframe tbody tr th:only-of-type {\n",
       "        vertical-align: middle;\n",
       "    }\n",
       "\n",
       "    .dataframe tbody tr th {\n",
       "        vertical-align: top;\n",
       "    }\n",
       "\n",
       "    .dataframe thead th {\n",
       "        text-align: right;\n",
       "    }\n",
       "</style>\n",
       "<table border=\"1\" class=\"dataframe\">\n",
       "  <thead>\n",
       "    <tr style=\"text-align: right;\">\n",
       "      <th></th>\n",
       "      <th>Tagger_name</th>\n",
       "      <th>accuracy</th>\n",
       "    </tr>\n",
       "  </thead>\n",
       "  <tbody>\n",
       "    <tr>\n",
       "      <th>0</th>\n",
       "      <td>vanilla_viterbi</td>\n",
       "      <td>92.24</td>\n",
       "    </tr>\n",
       "    <tr>\n",
       "      <th>1</th>\n",
       "      <td>unigram_tagger</td>\n",
       "      <td>91.00</td>\n",
       "    </tr>\n",
       "    <tr>\n",
       "      <th>2</th>\n",
       "      <td>Bigram_tagger</td>\n",
       "      <td>21.68</td>\n",
       "    </tr>\n",
       "    <tr>\n",
       "      <th>3</th>\n",
       "      <td>Unigram_Rule_based_tagger</td>\n",
       "      <td>95.14</td>\n",
       "    </tr>\n",
       "    <tr>\n",
       "      <th>4</th>\n",
       "      <td>viterbi_Modification_1</td>\n",
       "      <td>94.89</td>\n",
       "    </tr>\n",
       "    <tr>\n",
       "      <th>5</th>\n",
       "      <td>viterbi_Modification_2</td>\n",
       "      <td>93.49</td>\n",
       "    </tr>\n",
       "  </tbody>\n",
       "</table>\n",
       "</div>"
      ],
      "text/plain": [
       "                 Tagger_name  accuracy\n",
       "0            vanilla_viterbi     92.24\n",
       "1             unigram_tagger     91.00\n",
       "2              Bigram_tagger     21.68\n",
       "3  Unigram_Rule_based_tagger     95.14\n",
       "4     viterbi_Modification_1     94.89\n",
       "5     viterbi_Modification_2     93.49"
      ]
     },
     "execution_count": 93,
     "metadata": {},
     "output_type": "execute_result"
    }
   ],
   "source": [
    "#accuracy_df dataframe\n",
    "accuracy_df"
   ]
  },
  {
   "cell_type": "code",
   "execution_count": 94,
   "metadata": {},
   "outputs": [
    {
     "data": {
      "image/png": "[encoded data removed]",
      "text/plain": [
       "<Figure size 720x504 with 1 Axes>"
      ]
     },
     "metadata": {
      "needs_background": "light"
     },
     "output_type": "display_data"
    }
   ],
   "source": [
    "#plot showing the accuracies of different tagger algorithms\n",
    "plt.figure(figsize=(10,7))\n",
    "sns.barplot(data=accuracy_df,x='Tagger_name',y='accuracy',ci=None,palette=\"pastel\")\n",
    "plt.xticks(rotation=12)\n",
    "plt.show()"
   ]
  },
  {
   "cell_type": "markdown",
   "metadata": {},
   "source": [
    "<span style='color:orange'>Observation:</span>\n",
    "    \n",
    "   - From the accuracies, `Vanilla_ viterbi Modification_1` algorithm with trigram tagger has high accuracy rate with `95%` approx. as it handled the unknown word tags using trigram tagger with rule_based as backoff compared to `vanilla viterbi`\n",
    "   - `Viterbi_Modification_2` also gave us better results when evaluated on validation set \n",
    "   - And also notice that unigram_Rule_based_tagger did pretty well, this is because the unigram tagger tags the unknown words with the high frequent tag and since this again backoff with some handwritten rules - it did a pretty good job"
   ]
  },
  {
   "cell_type": "markdown",
   "metadata": {},
   "source": [
    "### List down cases which were incorrectly tagged by original POS tagger and got corrected by your modifications"
   ]
  },
  {
   "cell_type": "markdown",
   "metadata": {},
   "source": [
    "<span style='color:blue'>Using the test cases file provided 'Test_sentences.txt'</span>"
   ]
  },
  {
   "cell_type": "code",
   "execution_count": 95,
   "metadata": {},
   "outputs": [],
   "source": [
    "#Reading \"Test_sentences.txt\" file \n",
    "test_cases = open(\"Test_sentences.txt\",'r').read()"
   ]
  },
  {
   "cell_type": "code",
   "execution_count": 96,
   "metadata": {},
   "outputs": [],
   "source": [
    "#Tokenise the sentences in the file\n",
    "test = sent_tokenize(test_cases)"
   ]
  },
  {
   "cell_type": "code",
   "execution_count": 97,
   "metadata": {},
   "outputs": [
    {
     "data": {
      "text/plain": [
       "['Android is a mobile operating system developed by Google.',\n",
       " 'Android has been the best-selling OS worldwide on smartphones since 2011 and on tablets since 2013.',\n",
       " \"Google and Twitter made a deal in 2015 that gave Google access to Twitter's firehose.\",\n",
       " 'Twitter is an online news and social networking service on which users post and interact with messages known as tweets.',\n",
       " 'Before entering politics, Donald Trump was a domineering businessman and a television personality.',\n",
       " 'The 2018 FIFA World Cup is the 21st FIFA World Cup, an international football tournament contested once every four years.',\n",
       " 'This is the first World Cup to be held in Eastern Europe and the 11th time that it has been held in Europe.',\n",
       " 'Show me the cheapest round trips from Dallas to Atlanta\\nI would like to see flights from Denver to Philadelphia.',\n",
       " 'Show me the price of the flights leaving Atlanta at about 3 in the afternoon and arriving in San Francisco.',\n",
       " 'NASA invited social media users to experience the launch of ICESAT-2 Satellite.']"
      ]
     },
     "execution_count": 97,
     "metadata": {},
     "output_type": "execute_result"
    }
   ],
   "source": [
    "#test file\n",
    "test"
   ]
  },
  {
   "cell_type": "code",
   "execution_count": 98,
   "metadata": {},
   "outputs": [],
   "source": [
    "#Function for calling viterbi,viterbi_Modification_1,viterbi_Modification_2 to tag the sentences\n",
    "def corrector(sent):\n",
    "    \n",
    "    print(\"Sentence :\\n\",sent)\n",
    "    tokens = word_tokenize(sent)\n",
    "    print(\"\\nwords: \",tokens)\n",
    "    print(\"\\nPOS Taggings:\\n\")\n",
    "    print(\"vanilla_viterbi :\",vanilla_viterbi(tokens))\n",
    "    print(\"\\nviterbi_modification_1 :\",viterbi_Modification_1(tokens))\n",
    "    print(\"\\nviterbi_modification_2 :\",viterbi_Modification_2(tokens))"
   ]
  },
  {
   "cell_type": "markdown",
   "metadata": {},
   "source": [
    "<span style='color:blue'>Test Case 1:</span>"
   ]
  },
  {
   "cell_type": "code",
   "execution_count": 99,
   "metadata": {},
   "outputs": [
    {
     "name": "stdout",
     "output_type": "stream",
     "text": [
      "Sentence :\n",
      " The 2018 FIFA World Cup is the 21st FIFA World Cup, an international football tournament contested once every four years.\n",
      "\n",
      "words:  ['The', '2018', 'FIFA', 'World', 'Cup', 'is', 'the', '21st', 'FIFA', 'World', 'Cup', ',', 'an', 'international', 'football', 'tournament', 'contested', 'once', 'every', 'four', 'years', '.']\n",
      "\n",
      "POS Taggings:\n",
      "\n",
      "vanilla_viterbi : [('The', 'DET'), ('2018', 'ADJ'), ('FIFA', 'ADJ'), ('World', 'NOUN'), ('Cup', 'ADJ'), ('is', 'VERB'), ('the', 'DET'), ('21st', 'ADJ'), ('FIFA', 'ADJ'), ('World', 'NOUN'), ('Cup', 'ADJ'), (',', '.'), ('an', 'DET'), ('international', 'NOUN'), ('football', 'NOUN'), ('tournament', 'ADJ'), ('contested', 'ADJ'), ('once', 'ADV'), ('every', 'DET'), ('four', 'NUM'), ('years', 'NOUN'), ('.', '.')]\n",
      "\n",
      "viterbi_modification_1 : [('The', 'DET'), ('2018', 'NUM'), ('FIFA', 'NOUN'), ('World', 'NOUN'), ('Cup', 'NOUN'), ('is', 'VERB'), ('the', 'DET'), ('21st', 'ADJ'), ('FIFA', 'NOUN'), ('World', 'NOUN'), ('Cup', 'NOUN'), (',', '.'), ('an', 'DET'), ('international', 'NOUN'), ('football', 'NOUN'), ('tournament', 'NOUN'), ('contested', 'VERB'), ('once', 'ADV'), ('every', 'DET'), ('four', 'NUM'), ('years', 'NOUN'), ('.', '.')]\n",
      "\n",
      "viterbi_modification_2 : [('The', 'DET'), ('2018', 'NOUN'), ('FIFA', 'NOUN'), ('World', 'NOUN'), ('Cup', 'NOUN'), ('is', 'VERB'), ('the', 'DET'), ('21st', 'NOUN'), ('FIFA', 'NOUN'), ('World', 'NOUN'), ('Cup', 'NOUN'), (',', '.'), ('an', 'DET'), ('international', 'NOUN'), ('football', 'NOUN'), ('tournament', 'NOUN'), ('contested', 'NOUN'), ('once', 'ADV'), ('every', 'DET'), ('four', 'NUM'), ('years', 'NOUN'), ('.', '.')]\n"
     ]
    }
   ],
   "source": [
    "#Checking the test sentence\n",
    "corrector(\"The 2018 FIFA World Cup is the 21st FIFA World Cup, an international football tournament contested once every four years.\")"
   ]
  },
  {
   "cell_type": "markdown",
   "metadata": {},
   "source": [
    "<span style='color:brown'>Observation:</span>\n",
    "\n",
    "   - words like 'FIFA','2018','21st','cup', were not present in train corpus : So, `unmodified vanilla_viterbi tagged them incorrectly with a random tag`.\n",
    "    \n",
    "   - with `viterbi_modification_1` has corrected most of these where as `viterbi_modification_2` is not that accurate compared to modification_1"
   ]
  },
  {
   "cell_type": "markdown",
   "metadata": {},
   "source": [
    "<span style='color:blue'>Test Case 2:</span>"
   ]
  },
  {
   "cell_type": "code",
   "execution_count": 100,
   "metadata": {},
   "outputs": [
    {
     "name": "stdout",
     "output_type": "stream",
     "text": [
      "Sentence :\n",
      " Android has been the best-selling OS worldwide on smartphones since 2011 and on tablets since 2013.\n",
      "\n",
      "words:  ['Android', 'has', 'been', 'the', 'best-selling', 'OS', 'worldwide', 'on', 'smartphones', 'since', '2011', 'and', 'on', 'tablets', 'since', '2013', '.']\n",
      "\n",
      "POS Taggings:\n",
      "\n",
      "vanilla_viterbi : [('Android', 'ADJ'), ('has', 'VERB'), ('been', 'VERB'), ('the', 'DET'), ('best-selling', 'ADJ'), ('OS', 'ADJ'), ('worldwide', 'ADJ'), ('on', 'ADP'), ('smartphones', 'ADJ'), ('since', 'ADP'), ('2011', 'ADJ'), ('and', 'CONJ'), ('on', 'ADP'), ('tablets', 'NOUN'), ('since', 'ADP'), ('2013', 'ADJ'), ('.', '.')]\n",
      "\n",
      "viterbi_modification_1 : [('Android', 'NOUN'), ('has', 'VERB'), ('been', 'VERB'), ('the', 'DET'), ('best-selling', 'ADJ'), ('OS', 'NOUN'), ('worldwide', 'NOUN'), ('on', 'ADP'), ('smartphones', 'VERB'), ('since', 'ADP'), ('2011', 'NUM'), ('and', 'CONJ'), ('on', 'ADP'), ('tablets', 'NOUN'), ('since', 'ADP'), ('2013', 'NUM'), ('.', '.')]\n",
      "\n",
      "viterbi_modification_2 : [('Android', 'NOUN'), ('has', 'VERB'), ('been', 'VERB'), ('the', 'DET'), ('best-selling', 'ADJ'), ('OS', 'NOUN'), ('worldwide', 'NOUN'), ('on', 'ADP'), ('smartphones', 'DET'), ('since', 'ADP'), ('2011', 'DET'), ('and', 'CONJ'), ('on', 'ADP'), ('tablets', 'NOUN'), ('since', 'ADP'), ('2013', 'DET'), ('.', '.')]\n"
     ]
    }
   ],
   "source": [
    "corrector(\"Android has been the best-selling OS worldwide on smartphones since 2011 and on tablets since 2013.\")"
   ]
  },
  {
   "cell_type": "markdown",
   "metadata": {},
   "source": [
    "<span style='color:brown'>Observation:</span>\n",
    "\n",
    "   - words like 'Android','OS','worldwide','smartphones' were not present in train corpus : So, `unmodified vanilla_viterbi tagged them incorrectly with a random tag`.\n",
    "    \n",
    "   - with `viterbi_modification_1 and viterbi_modification_2` : these words been identified correctly as `NOUN`"
   ]
  },
  {
   "cell_type": "markdown",
   "metadata": {},
   "source": [
    "<span style='color:blue'>Test Case 3:</span>"
   ]
  },
  {
   "cell_type": "code",
   "execution_count": 101,
   "metadata": {},
   "outputs": [
    {
     "name": "stdout",
     "output_type": "stream",
     "text": [
      "Sentence :\n",
      " NASA invited social media users to experience the launch of ICESAT-2 Satellite.\n",
      "\n",
      "words:  ['NASA', 'invited', 'social', 'media', 'users', 'to', 'experience', 'the', 'launch', 'of', 'ICESAT-2', 'Satellite', '.']\n",
      "\n",
      "POS Taggings:\n",
      "\n",
      "vanilla_viterbi : [('NASA', 'ADJ'), ('invited', 'ADJ'), ('social', 'ADJ'), ('media', 'NOUN'), ('users', 'NOUN'), ('to', 'PRT'), ('experience', 'NOUN'), ('the', 'DET'), ('launch', 'NOUN'), ('of', 'ADP'), ('ICESAT-2', 'ADJ'), ('Satellite', 'ADJ'), ('.', '.')]\n",
      "\n",
      "viterbi_modification_1 : [('NASA', 'NOUN'), ('invited', 'VERB'), ('social', 'ADJ'), ('media', 'NOUN'), ('users', 'NOUN'), ('to', 'PRT'), ('experience', 'NOUN'), ('the', 'DET'), ('launch', 'NOUN'), ('of', 'ADP'), ('ICESAT-2', 'NOUN'), ('Satellite', 'NOUN'), ('.', '.')]\n",
      "\n",
      "viterbi_modification_2 : [('NASA', 'NOUN'), ('invited', 'NOUN'), ('social', 'ADJ'), ('media', 'NOUN'), ('users', 'NOUN'), ('to', 'PRT'), ('experience', 'NOUN'), ('the', 'DET'), ('launch', 'NOUN'), ('of', 'ADP'), ('ICESAT-2', 'DET'), ('Satellite', 'NOUN'), ('.', '.')]\n"
     ]
    }
   ],
   "source": [
    "#Tag the sentences\n",
    "corrector(\"NASA invited social media users to experience the launch of ICESAT-2 Satellite.\")"
   ]
  },
  {
   "cell_type": "markdown",
   "metadata": {},
   "source": [
    "<span style='color:brown'>Observation:</span>\n",
    "\n",
    "   - words like 'NASA','invited','ICESAT-2','satellite' were not present in train corpus : So, `unmodified vanilla_viterbi tagged them incorrectly with a random tag`.\n",
    "    \n",
    "   - with `viterbi_modification_1(with trigram tagger) : these words been identified correctly as `NOUN`"
   ]
  },
  {
   "cell_type": "code",
   "execution_count": 102,
   "metadata": {},
   "outputs": [
    {
     "name": "stdout",
     "output_type": "stream",
     "text": [
      "Sentence :\n",
      " Android is a mobile operating system developed by Google.\n",
      "\n",
      "words:  ['Android', 'is', 'a', 'mobile', 'operating', 'system', 'developed', 'by', 'Google', '.']\n",
      "\n",
      "POS Taggings:\n",
      "\n",
      "vanilla_viterbi : [('Android', 'ADJ'), ('is', 'VERB'), ('a', 'DET'), ('mobile', 'ADJ'), ('operating', 'NOUN'), ('system', 'NOUN'), ('developed', 'VERB'), ('by', 'ADP'), ('Google', 'ADJ'), ('.', '.')]\n",
      "\n",
      "viterbi_modification_1 : [('Android', 'NOUN'), ('is', 'VERB'), ('a', 'DET'), ('mobile', 'ADJ'), ('operating', 'NOUN'), ('system', 'NOUN'), ('developed', 'VERB'), ('by', 'ADP'), ('Google', 'NOUN'), ('.', '.')]\n",
      "\n",
      "viterbi_modification_2 : [('Android', 'NOUN'), ('is', 'VERB'), ('a', 'DET'), ('mobile', 'ADJ'), ('operating', 'NOUN'), ('system', 'NOUN'), ('developed', 'VERB'), ('by', 'ADP'), ('Google', 'DET'), ('.', '.')]\n",
      "Sentence :\n",
      " Android has been the best-selling OS worldwide on smartphones since 2011 and on tablets since 2013.\n",
      "\n",
      "words:  ['Android', 'has', 'been', 'the', 'best-selling', 'OS', 'worldwide', 'on', 'smartphones', 'since', '2011', 'and', 'on', 'tablets', 'since', '2013', '.']\n",
      "\n",
      "POS Taggings:\n",
      "\n",
      "vanilla_viterbi : [('Android', 'ADJ'), ('has', 'VERB'), ('been', 'VERB'), ('the', 'DET'), ('best-selling', 'ADJ'), ('OS', 'ADJ'), ('worldwide', 'ADJ'), ('on', 'ADP'), ('smartphones', 'ADJ'), ('since', 'ADP'), ('2011', 'ADJ'), ('and', 'CONJ'), ('on', 'ADP'), ('tablets', 'NOUN'), ('since', 'ADP'), ('2013', 'ADJ'), ('.', '.')]\n",
      "\n",
      "viterbi_modification_1 : [('Android', 'NOUN'), ('has', 'VERB'), ('been', 'VERB'), ('the', 'DET'), ('best-selling', 'ADJ'), ('OS', 'NOUN'), ('worldwide', 'NOUN'), ('on', 'ADP'), ('smartphones', 'VERB'), ('since', 'ADP'), ('2011', 'NUM'), ('and', 'CONJ'), ('on', 'ADP'), ('tablets', 'NOUN'), ('since', 'ADP'), ('2013', 'NUM'), ('.', '.')]\n",
      "\n",
      "viterbi_modification_2 : [('Android', 'NOUN'), ('has', 'VERB'), ('been', 'VERB'), ('the', 'DET'), ('best-selling', 'ADJ'), ('OS', 'NOUN'), ('worldwide', 'NOUN'), ('on', 'ADP'), ('smartphones', 'DET'), ('since', 'ADP'), ('2011', 'DET'), ('and', 'CONJ'), ('on', 'ADP'), ('tablets', 'NOUN'), ('since', 'ADP'), ('2013', 'DET'), ('.', '.')]\n",
      "Sentence :\n",
      " Google and Twitter made a deal in 2015 that gave Google access to Twitter's firehose.\n",
      "\n",
      "words:  ['Google', 'and', 'Twitter', 'made', 'a', 'deal', 'in', '2015', 'that', 'gave', 'Google', 'access', 'to', 'Twitter', \"'s\", 'firehose', '.']\n",
      "\n",
      "POS Taggings:\n",
      "\n",
      "vanilla_viterbi : [('Google', 'ADJ'), ('and', 'CONJ'), ('Twitter', 'ADJ'), ('made', 'VERB'), ('a', 'DET'), ('deal', 'NOUN'), ('in', 'ADP'), ('2015', 'ADJ'), ('that', 'ADP'), ('gave', 'VERB'), ('Google', 'ADJ'), ('access', 'NOUN'), ('to', 'PRT'), ('Twitter', 'ADJ'), (\"'s\", 'PRT'), ('firehose', 'ADJ'), ('.', '.')]\n",
      "\n",
      "viterbi_modification_1 : [('Google', 'NOUN'), ('and', 'CONJ'), ('Twitter', 'NOUN'), ('made', 'VERB'), ('a', 'DET'), ('deal', 'NOUN'), ('in', 'ADP'), ('2015', 'NUM'), ('that', 'ADP'), ('gave', 'VERB'), ('Google', 'NOUN'), ('access', 'NOUN'), ('to', 'PRT'), ('Twitter', 'NOUN'), (\"'s\", 'PRT'), ('firehose', 'NOUN'), ('.', '.')]\n",
      "\n",
      "viterbi_modification_2 : [('Google', 'NOUN'), ('and', 'CONJ'), ('Twitter', 'NOUN'), ('made', 'VERB'), ('a', 'DET'), ('deal', 'NOUN'), ('in', 'ADP'), ('2015', 'DET'), ('that', 'ADP'), ('gave', 'VERB'), ('Google', 'X'), ('access', 'NOUN'), ('to', 'PRT'), ('Twitter', 'VERB'), (\"'s\", 'PRT'), ('firehose', 'VERB'), ('.', '.')]\n",
      "Sentence :\n",
      " Twitter is an online news and social networking service on which users post and interact with messages known as tweets.\n",
      "\n",
      "words:  ['Twitter', 'is', 'an', 'online', 'news', 'and', 'social', 'networking', 'service', 'on', 'which', 'users', 'post', 'and', 'interact', 'with', 'messages', 'known', 'as', 'tweets', '.']\n",
      "\n",
      "POS Taggings:\n",
      "\n",
      "vanilla_viterbi : [('Twitter', 'ADJ'), ('is', 'VERB'), ('an', 'DET'), ('online', 'ADJ'), ('news', 'NOUN'), ('and', 'CONJ'), ('social', 'ADJ'), ('networking', 'NOUN'), ('service', 'NOUN'), ('on', 'ADP'), ('which', 'DET'), ('users', 'NOUN'), ('post', 'NOUN'), ('and', 'CONJ'), ('interact', 'ADJ'), ('with', 'ADP'), ('messages', 'ADJ'), ('known', 'VERB'), ('as', 'ADP'), ('tweets', 'ADJ'), ('.', '.')]\n",
      "\n",
      "viterbi_modification_1 : [('Twitter', 'NOUN'), ('is', 'VERB'), ('an', 'DET'), ('online', 'NOUN'), ('news', 'NOUN'), ('and', 'CONJ'), ('social', 'ADJ'), ('networking', 'NOUN'), ('service', 'NOUN'), ('on', 'ADP'), ('which', 'DET'), ('users', 'NOUN'), ('post', 'NOUN'), ('and', 'CONJ'), ('interact', 'NOUN'), ('with', 'ADP'), ('messages', 'VERB'), ('known', 'VERB'), ('as', 'ADP'), ('tweets', 'NOUN'), ('.', '.')]\n",
      "\n",
      "viterbi_modification_2 : [('Twitter', 'NOUN'), ('is', 'VERB'), ('an', 'DET'), ('online', 'NOUN'), ('news', 'NOUN'), ('and', 'CONJ'), ('social', 'ADJ'), ('networking', 'NOUN'), ('service', 'NOUN'), ('on', 'ADP'), ('which', 'DET'), ('users', 'NOUN'), ('post', 'NOUN'), ('and', 'CONJ'), ('interact', 'NOUN'), ('with', 'ADP'), ('messages', 'DET'), ('known', 'VERB'), ('as', 'ADP'), ('tweets', 'DET'), ('.', '.')]\n",
      "Sentence :\n",
      " Before entering politics, Donald Trump was a domineering businessman and a television personality.\n",
      "\n",
      "words:  ['Before', 'entering', 'politics', ',', 'Donald', 'Trump', 'was', 'a', 'domineering', 'businessman', 'and', 'a', 'television', 'personality', '.']\n",
      "\n",
      "POS Taggings:\n",
      "\n",
      "vanilla_viterbi : [('Before', 'ADP'), ('entering', 'VERB'), ('politics', 'NOUN'), (',', '.'), ('Donald', 'NOUN'), ('Trump', 'NOUN'), ('was', 'VERB'), ('a', 'DET'), ('domineering', 'ADJ'), ('businessman', 'NOUN'), ('and', 'CONJ'), ('a', 'DET'), ('television', 'NOUN'), ('personality', 'ADJ'), ('.', '.')]\n",
      "\n",
      "viterbi_modification_1 : [('Before', 'ADP'), ('entering', 'VERB'), ('politics', 'NOUN'), (',', '.'), ('Donald', 'NOUN'), ('Trump', 'NOUN'), ('was', 'VERB'), ('a', 'DET'), ('domineering', 'VERB'), ('businessman', 'NOUN'), ('and', 'CONJ'), ('a', 'DET'), ('television', 'NOUN'), ('personality', 'NOUN'), ('.', '.')]\n",
      "\n",
      "viterbi_modification_2 : [('Before', 'ADP'), ('entering', 'VERB'), ('politics', 'NOUN'), (',', '.'), ('Donald', 'NOUN'), ('Trump', 'NOUN'), ('was', 'VERB'), ('a', 'DET'), ('domineering', 'NOUN'), ('businessman', 'NOUN'), ('and', 'CONJ'), ('a', 'DET'), ('television', 'NOUN'), ('personality', 'NOUN'), ('.', '.')]\n",
      "Sentence :\n",
      " The 2018 FIFA World Cup is the 21st FIFA World Cup, an international football tournament contested once every four years.\n",
      "\n",
      "words:  ['The', '2018', 'FIFA', 'World', 'Cup', 'is', 'the', '21st', 'FIFA', 'World', 'Cup', ',', 'an', 'international', 'football', 'tournament', 'contested', 'once', 'every', 'four', 'years', '.']\n",
      "\n",
      "POS Taggings:\n",
      "\n",
      "vanilla_viterbi : [('The', 'DET'), ('2018', 'ADJ'), ('FIFA', 'ADJ'), ('World', 'NOUN'), ('Cup', 'ADJ'), ('is', 'VERB'), ('the', 'DET'), ('21st', 'ADJ'), ('FIFA', 'ADJ'), ('World', 'NOUN'), ('Cup', 'ADJ'), (',', '.'), ('an', 'DET'), ('international', 'NOUN'), ('football', 'NOUN'), ('tournament', 'ADJ'), ('contested', 'ADJ'), ('once', 'ADV'), ('every', 'DET'), ('four', 'NUM'), ('years', 'NOUN'), ('.', '.')]\n",
      "\n",
      "viterbi_modification_1 : [('The', 'DET'), ('2018', 'NUM'), ('FIFA', 'NOUN'), ('World', 'NOUN'), ('Cup', 'NOUN'), ('is', 'VERB'), ('the', 'DET'), ('21st', 'ADJ'), ('FIFA', 'NOUN'), ('World', 'NOUN'), ('Cup', 'NOUN'), (',', '.'), ('an', 'DET'), ('international', 'NOUN'), ('football', 'NOUN'), ('tournament', 'NOUN'), ('contested', 'VERB'), ('once', 'ADV'), ('every', 'DET'), ('four', 'NUM'), ('years', 'NOUN'), ('.', '.')]\n",
      "\n",
      "viterbi_modification_2 : [('The', 'DET'), ('2018', 'NOUN'), ('FIFA', 'NOUN'), ('World', 'NOUN'), ('Cup', 'NOUN'), ('is', 'VERB'), ('the', 'DET'), ('21st', 'NOUN'), ('FIFA', 'NOUN'), ('World', 'NOUN'), ('Cup', 'NOUN'), (',', '.'), ('an', 'DET'), ('international', 'NOUN'), ('football', 'NOUN'), ('tournament', 'NOUN'), ('contested', 'NOUN'), ('once', 'ADV'), ('every', 'DET'), ('four', 'NUM'), ('years', 'NOUN'), ('.', '.')]\n",
      "Sentence :\n",
      " This is the first World Cup to be held in Eastern Europe and the 11th time that it has been held in Europe.\n",
      "\n",
      "words:  ['This', 'is', 'the', 'first', 'World', 'Cup', 'to', 'be', 'held', 'in', 'Eastern', 'Europe', 'and', 'the', '11th', 'time', 'that', 'it', 'has', 'been', 'held', 'in', 'Europe', '.']\n",
      "\n",
      "POS Taggings:\n",
      "\n",
      "vanilla_viterbi : [('This', 'DET'), ('is', 'VERB'), ('the', 'DET'), ('first', 'ADJ'), ('World', 'NOUN'), ('Cup', 'ADJ'), ('to', 'PRT'), ('be', 'VERB'), ('held', 'VERB'), ('in', 'ADP'), ('Eastern', 'NOUN'), ('Europe', 'NOUN'), ('and', 'CONJ'), ('the', 'DET'), ('11th', 'ADJ'), ('time', 'NOUN'), ('that', 'ADP'), ('it', 'PRON'), ('has', 'VERB'), ('been', 'VERB'), ('held', 'VERB'), ('in', 'ADP'), ('Europe', 'NOUN'), ('.', '.')]\n"
     ]
    },
    {
     "name": "stdout",
     "output_type": "stream",
     "text": [
      "\n",
      "viterbi_modification_1 : [('This', 'DET'), ('is', 'VERB'), ('the', 'DET'), ('first', 'ADJ'), ('World', 'NOUN'), ('Cup', 'NOUN'), ('to', 'PRT'), ('be', 'VERB'), ('held', 'VERB'), ('in', 'ADP'), ('Eastern', 'NOUN'), ('Europe', 'NOUN'), ('and', 'CONJ'), ('the', 'DET'), ('11th', 'ADJ'), ('time', 'NOUN'), ('that', 'ADP'), ('it', 'PRON'), ('has', 'VERB'), ('been', 'VERB'), ('held', 'VERB'), ('in', 'ADP'), ('Europe', 'NOUN'), ('.', '.')]\n",
      "\n",
      "viterbi_modification_2 : [('This', 'DET'), ('is', 'VERB'), ('the', 'DET'), ('first', 'ADJ'), ('World', 'NOUN'), ('Cup', 'NOUN'), ('to', 'PRT'), ('be', 'VERB'), ('held', 'VERB'), ('in', 'ADP'), ('Eastern', 'NOUN'), ('Europe', 'NOUN'), ('and', 'CONJ'), ('the', 'DET'), ('11th', 'ADJ'), ('time', 'NOUN'), ('that', 'ADP'), ('it', 'PRON'), ('has', 'VERB'), ('been', 'VERB'), ('held', 'VERB'), ('in', 'ADP'), ('Europe', 'NOUN'), ('.', '.')]\n",
      "Sentence :\n",
      " Show me the cheapest round trips from Dallas to Atlanta\n",
      "I would like to see flights from Denver to Philadelphia.\n",
      "\n",
      "words:  ['Show', 'me', 'the', 'cheapest', 'round', 'trips', 'from', 'Dallas', 'to', 'Atlanta', 'I', 'would', 'like', 'to', 'see', 'flights', 'from', 'Denver', 'to', 'Philadelphia', '.']\n",
      "\n",
      "POS Taggings:\n",
      "\n",
      "vanilla_viterbi : [('Show', 'NOUN'), ('me', 'PRON'), ('the', 'DET'), ('cheapest', 'ADJ'), ('round', 'NOUN'), ('trips', 'ADJ'), ('from', 'ADP'), ('Dallas', 'NOUN'), ('to', 'PRT'), ('Atlanta', 'NOUN'), ('I', 'PRON'), ('would', 'VERB'), ('like', 'ADP'), ('to', 'PRT'), ('see', 'VERB'), ('flights', 'NOUN'), ('from', 'ADP'), ('Denver', 'NOUN'), ('to', 'PRT'), ('Philadelphia', 'NOUN'), ('.', '.')]\n",
      "\n",
      "viterbi_modification_1 : [('Show', 'NOUN'), ('me', 'PRON'), ('the', 'DET'), ('cheapest', 'ADJ'), ('round', 'NOUN'), ('trips', 'NOUN'), ('from', 'ADP'), ('Dallas', 'NOUN'), ('to', 'PRT'), ('Atlanta', 'NOUN'), ('I', 'PRON'), ('would', 'VERB'), ('like', 'ADP'), ('to', 'PRT'), ('see', 'VERB'), ('flights', 'NOUN'), ('from', 'ADP'), ('Denver', 'NOUN'), ('to', 'PRT'), ('Philadelphia', 'NOUN'), ('.', '.')]\n",
      "\n",
      "viterbi_modification_2 : [('Show', 'NOUN'), ('me', 'PRON'), ('the', 'DET'), ('cheapest', 'ADJ'), ('round', 'NOUN'), ('trips', 'NOUN'), ('from', 'ADP'), ('Dallas', 'NOUN'), ('to', 'PRT'), ('Atlanta', 'NOUN'), ('I', 'PRON'), ('would', 'VERB'), ('like', 'ADP'), ('to', 'PRT'), ('see', 'VERB'), ('flights', 'NOUN'), ('from', 'ADP'), ('Denver', 'NOUN'), ('to', 'PRT'), ('Philadelphia', 'NOUN'), ('.', '.')]\n",
      "Sentence :\n",
      " Show me the price of the flights leaving Atlanta at about 3 in the afternoon and arriving in San Francisco.\n",
      "\n",
      "words:  ['Show', 'me', 'the', 'price', 'of', 'the', 'flights', 'leaving', 'Atlanta', 'at', 'about', '3', 'in', 'the', 'afternoon', 'and', 'arriving', 'in', 'San', 'Francisco', '.']\n",
      "\n",
      "POS Taggings:\n",
      "\n",
      "vanilla_viterbi : [('Show', 'NOUN'), ('me', 'PRON'), ('the', 'DET'), ('price', 'NOUN'), ('of', 'ADP'), ('the', 'DET'), ('flights', 'NOUN'), ('leaving', 'VERB'), ('Atlanta', 'NOUN'), ('at', 'ADP'), ('about', 'ADP'), ('3', 'NUM'), ('in', 'ADP'), ('the', 'DET'), ('afternoon', 'NOUN'), ('and', 'CONJ'), ('arriving', 'ADJ'), ('in', 'ADP'), ('San', 'NOUN'), ('Francisco', 'NOUN'), ('.', '.')]\n",
      "\n",
      "viterbi_modification_1 : [('Show', 'NOUN'), ('me', 'PRON'), ('the', 'DET'), ('price', 'NOUN'), ('of', 'ADP'), ('the', 'DET'), ('flights', 'NOUN'), ('leaving', 'VERB'), ('Atlanta', 'NOUN'), ('at', 'ADP'), ('about', 'ADP'), ('3', 'NUM'), ('in', 'ADP'), ('the', 'DET'), ('afternoon', 'NOUN'), ('and', 'CONJ'), ('arriving', 'VERB'), ('in', 'ADP'), ('San', 'NOUN'), ('Francisco', 'NOUN'), ('.', '.')]\n",
      "\n",
      "viterbi_modification_2 : [('Show', 'NOUN'), ('me', 'PRON'), ('the', 'DET'), ('price', 'NOUN'), ('of', 'ADP'), ('the', 'DET'), ('flights', 'NOUN'), ('leaving', 'VERB'), ('Atlanta', 'NOUN'), ('at', 'ADP'), ('about', 'ADP'), ('3', 'NUM'), ('in', 'ADP'), ('the', 'DET'), ('afternoon', 'NOUN'), ('and', 'CONJ'), ('arriving', 'NOUN'), ('in', 'ADP'), ('San', 'NOUN'), ('Francisco', 'NOUN'), ('.', '.')]\n",
      "Sentence :\n",
      " NASA invited social media users to experience the launch of ICESAT-2 Satellite.\n",
      "\n",
      "words:  ['NASA', 'invited', 'social', 'media', 'users', 'to', 'experience', 'the', 'launch', 'of', 'ICESAT-2', 'Satellite', '.']\n",
      "\n",
      "POS Taggings:\n",
      "\n",
      "vanilla_viterbi : [('NASA', 'ADJ'), ('invited', 'ADJ'), ('social', 'ADJ'), ('media', 'NOUN'), ('users', 'NOUN'), ('to', 'PRT'), ('experience', 'NOUN'), ('the', 'DET'), ('launch', 'NOUN'), ('of', 'ADP'), ('ICESAT-2', 'ADJ'), ('Satellite', 'ADJ'), ('.', '.')]\n",
      "\n",
      "viterbi_modification_1 : [('NASA', 'NOUN'), ('invited', 'VERB'), ('social', 'ADJ'), ('media', 'NOUN'), ('users', 'NOUN'), ('to', 'PRT'), ('experience', 'NOUN'), ('the', 'DET'), ('launch', 'NOUN'), ('of', 'ADP'), ('ICESAT-2', 'NOUN'), ('Satellite', 'NOUN'), ('.', '.')]\n",
      "\n",
      "viterbi_modification_2 : [('NASA', 'NOUN'), ('invited', 'NOUN'), ('social', 'ADJ'), ('media', 'NOUN'), ('users', 'NOUN'), ('to', 'PRT'), ('experience', 'NOUN'), ('the', 'DET'), ('launch', 'NOUN'), ('of', 'ADP'), ('ICESAT-2', 'DET'), ('Satellite', 'NOUN'), ('.', '.')]\n"
     ]
    }
   ],
   "source": [
    "#Testing the entire test file provided\n",
    "\n",
    "for sent in test:\n",
    "    corrector(sent)"
   ]
  },
  {
   "cell_type": "markdown",
   "metadata": {},
   "source": [
    "<span style='color:brown'>Observation:</span>\n",
    "\n",
    "- Many word tags been corrected by the modifications done to the vanilla viterbi algorithm"
   ]
  },
  {
   "cell_type": "code",
   "execution_count": null,
   "metadata": {},
   "outputs": [],
   "source": []
  }
 ],
 "metadata": {
  "kernelspec": {
   "display_name": "Python 3",
   "language": "python",
   "name": "python3"
  },
  "language_info": {
   "codemirror_mode": {
    "name": "ipython",
    "version": 3
   },
   "file_extension": ".py",
   "mimetype": "text/x-python",
   "name": "python",
   "nbconvert_exporter": "python",
   "pygments_lexer": "ipython3",
   "version": "3.8.5"
  }
 },
 "nbformat": 4,
 "nbformat_minor": 2
}
